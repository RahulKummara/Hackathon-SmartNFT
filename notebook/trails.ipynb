{
 "cells": [
  {
   "cell_type": "markdown",
   "id": "76da718a",
   "metadata": {},
   "source": [
    "### Importing libraries"
   ]
  },
  {
   "cell_type": "code",
   "execution_count": null,
   "id": "1ce02518",
   "metadata": {},
   "outputs": [],
   "source": [
    "import pandas as pd\n",
    "import numpy as np\n",
    "import matplotlib.pyplot as plt\n",
    "import seaborn as sns\n",
    "\n",
    "from sklearn.model_selection import train_test_split, RandomizedSearchCV\n",
    "from sklearn.preprocessing import StandardScaler\n",
    "from sklearn.ensemble import RandomForestRegressor, GradientBoostingRegressor\n",
    "from sklearn.linear_model import LinearRegression\n",
    "from xgboost import XGBRegressor\n",
    "from sklearn.metrics import mean_squared_error, mean_absolute_error, r2_score\n",
    "from sklearn.impute import SimpleImputer\n",
    "\n",
    "import warnings\n",
    "warnings.filterwarnings('ignore')\n",
    "%matplotlib inline"
   ]
  },
  {
   "cell_type": "markdown",
   "id": "cf148deb",
   "metadata": {},
   "source": [
    "### Loading Dataset"
   ]
  },
  {
   "cell_type": "code",
   "execution_count": 37,
   "id": "f31ede44",
   "metadata": {},
   "outputs": [],
   "source": [
    "dataset = pd.read_csv(r'E:\\Hackathon-SmartNFT\\data\\nft_data.csv')"
   ]
  },
  {
   "cell_type": "markdown",
   "id": "be3148c6",
   "metadata": {},
   "source": [
    "### Top 5 rows"
   ]
  },
  {
   "cell_type": "code",
   "execution_count": 38,
   "id": "9bd6b508",
   "metadata": {},
   "outputs": [
    {
     "data": {
      "text/html": [
       "<div>\n",
       "<style scoped>\n",
       "    .dataframe tbody tr th:only-of-type {\n",
       "        vertical-align: middle;\n",
       "    }\n",
       "\n",
       "    .dataframe tbody tr th {\n",
       "        vertical-align: top;\n",
       "    }\n",
       "\n",
       "    .dataframe thead th {\n",
       "        text-align: right;\n",
       "    }\n",
       "</style>\n",
       "<table border=\"1\" class=\"dataframe\">\n",
       "  <thead>\n",
       "    <tr style=\"text-align: right;\">\n",
       "      <th></th>\n",
       "      <th>Index</th>\n",
       "      <th>Name</th>\n",
       "      <th>Volume</th>\n",
       "      <th>Volume_USD</th>\n",
       "      <th>Market_Cap</th>\n",
       "      <th>Market_Cap_USD</th>\n",
       "      <th>Sales</th>\n",
       "      <th>Floor_Price</th>\n",
       "      <th>Floor_Price_USD</th>\n",
       "      <th>Average_Price</th>\n",
       "      <th>Average_Price_USD</th>\n",
       "      <th>Owners</th>\n",
       "      <th>Assets</th>\n",
       "      <th>Owner_Asset_Ratio</th>\n",
       "      <th>Category</th>\n",
       "      <th>Website</th>\n",
       "      <th>Logo</th>\n",
       "    </tr>\n",
       "  </thead>\n",
       "  <tbody>\n",
       "    <tr>\n",
       "      <th>0</th>\n",
       "      <td>0</td>\n",
       "      <td>basis.markets</td>\n",
       "      <td>27256.63</td>\n",
       "      <td>4.001818e+06</td>\n",
       "      <td>708.145455</td>\n",
       "      <td>103969.91560</td>\n",
       "      <td>366</td>\n",
       "      <td>39.50</td>\n",
       "      <td>5799.3900</td>\n",
       "      <td>74.471667</td>\n",
       "      <td>10933.930100</td>\n",
       "      <td>12</td>\n",
       "      <td>16</td>\n",
       "      <td>75.00</td>\n",
       "      <td>Collectibles,Digital,Privilege</td>\n",
       "      <td>https://basis.markets/</td>\n",
       "      <td>https://content.solsea.io/files/thumbnail/1636...</td>\n",
       "    </tr>\n",
       "    <tr>\n",
       "      <th>1</th>\n",
       "      <td>1</td>\n",
       "      <td>Skeleton Crew Skulls</td>\n",
       "      <td>11381.25</td>\n",
       "      <td>1.670995e+06</td>\n",
       "      <td>106.656000</td>\n",
       "      <td>15659.23392</td>\n",
       "      <td>2075</td>\n",
       "      <td>0.67</td>\n",
       "      <td>98.3694</td>\n",
       "      <td>5.484940</td>\n",
       "      <td>805.298855</td>\n",
       "      <td>103</td>\n",
       "      <td>132</td>\n",
       "      <td>78.03</td>\n",
       "      <td>NaN</td>\n",
       "      <td>https://skeletoncrew.rip/</td>\n",
       "      <td>https://content.solsea.io/files/thumbnail/1633...</td>\n",
       "    </tr>\n",
       "    <tr>\n",
       "      <th>2</th>\n",
       "      <td>2</td>\n",
       "      <td>Flippies</td>\n",
       "      <td>6732.19</td>\n",
       "      <td>9.884201e+05</td>\n",
       "      <td>1663.863158</td>\n",
       "      <td>244288.38880</td>\n",
       "      <td>1504</td>\n",
       "      <td>0.80</td>\n",
       "      <td>117.4560</td>\n",
       "      <td>4.476190</td>\n",
       "      <td>657.194239</td>\n",
       "      <td>905</td>\n",
       "      <td>1638</td>\n",
       "      <td>55.25</td>\n",
       "      <td>NaN</td>\n",
       "      <td>https://www.flippies.art/</td>\n",
       "      <td>https://content.solsea.io/files/thumbnail/1632...</td>\n",
       "    </tr>\n",
       "    <tr>\n",
       "      <th>3</th>\n",
       "      <td>3</td>\n",
       "      <td>Meerkat Millionaires Country Club</td>\n",
       "      <td>3734.76</td>\n",
       "      <td>5.483375e+05</td>\n",
       "      <td>90.275000</td>\n",
       "      <td>13254.17550</td>\n",
       "      <td>395</td>\n",
       "      <td>3.79</td>\n",
       "      <td>556.4478</td>\n",
       "      <td>9.455089</td>\n",
       "      <td>1388.196109</td>\n",
       "      <td>19</td>\n",
       "      <td>23</td>\n",
       "      <td>82.61</td>\n",
       "      <td>NaN</td>\n",
       "      <td>https://meerkatmillionaires.club/</td>\n",
       "      <td>https://content.solsea.io/files/thumbnail/1632...</td>\n",
       "    </tr>\n",
       "    <tr>\n",
       "      <th>4</th>\n",
       "      <td>4</td>\n",
       "      <td>Stylish Studs</td>\n",
       "      <td>3191.15</td>\n",
       "      <td>4.685246e+05</td>\n",
       "      <td>165.000000</td>\n",
       "      <td>24225.30000</td>\n",
       "      <td>729</td>\n",
       "      <td>4.30</td>\n",
       "      <td>631.3260</td>\n",
       "      <td>4.377435</td>\n",
       "      <td>642.694984</td>\n",
       "      <td>28</td>\n",
       "      <td>50</td>\n",
       "      <td>56.00</td>\n",
       "      <td>NaN</td>\n",
       "      <td>https://stylishstuds.io</td>\n",
       "      <td>https://content.solsea.io/files/thumbnail/1632...</td>\n",
       "    </tr>\n",
       "  </tbody>\n",
       "</table>\n",
       "</div>"
      ],
      "text/plain": [
       "   Index                               Name    Volume    Volume_USD  \\\n",
       "0      0                      basis.markets  27256.63  4.001818e+06   \n",
       "1      1               Skeleton Crew Skulls  11381.25  1.670995e+06   \n",
       "2      2                           Flippies   6732.19  9.884201e+05   \n",
       "3      3  Meerkat Millionaires Country Club   3734.76  5.483375e+05   \n",
       "4      4                      Stylish Studs   3191.15  4.685246e+05   \n",
       "\n",
       "    Market_Cap  Market_Cap_USD  Sales  Floor_Price  Floor_Price_USD  \\\n",
       "0   708.145455    103969.91560    366        39.50        5799.3900   \n",
       "1   106.656000     15659.23392   2075         0.67          98.3694   \n",
       "2  1663.863158    244288.38880   1504         0.80         117.4560   \n",
       "3    90.275000     13254.17550    395         3.79         556.4478   \n",
       "4   165.000000     24225.30000    729         4.30         631.3260   \n",
       "\n",
       "   Average_Price  Average_Price_USD  Owners  Assets  Owner_Asset_Ratio  \\\n",
       "0      74.471667       10933.930100      12      16              75.00   \n",
       "1       5.484940         805.298855     103     132              78.03   \n",
       "2       4.476190         657.194239     905    1638              55.25   \n",
       "3       9.455089        1388.196109      19      23              82.61   \n",
       "4       4.377435         642.694984      28      50              56.00   \n",
       "\n",
       "                         Category                            Website  \\\n",
       "0  Collectibles,Digital,Privilege             https://basis.markets/   \n",
       "1                             NaN          https://skeletoncrew.rip/   \n",
       "2                             NaN          https://www.flippies.art/   \n",
       "3                             NaN  https://meerkatmillionaires.club/   \n",
       "4                             NaN            https://stylishstuds.io   \n",
       "\n",
       "                                                Logo  \n",
       "0  https://content.solsea.io/files/thumbnail/1636...  \n",
       "1  https://content.solsea.io/files/thumbnail/1633...  \n",
       "2  https://content.solsea.io/files/thumbnail/1632...  \n",
       "3  https://content.solsea.io/files/thumbnail/1632...  \n",
       "4  https://content.solsea.io/files/thumbnail/1632...  "
      ]
     },
     "execution_count": 38,
     "metadata": {},
     "output_type": "execute_result"
    }
   ],
   "source": [
    "dataset.head()"
   ]
  },
  {
   "cell_type": "code",
   "execution_count": 39,
   "id": "11461257",
   "metadata": {},
   "outputs": [
    {
     "name": "stdout",
     "output_type": "stream",
     "text": [
      "<class 'pandas.core.frame.DataFrame'>\n",
      "RangeIndex: 592 entries, 0 to 591\n",
      "Data columns (total 17 columns):\n",
      " #   Column             Non-Null Count  Dtype  \n",
      "---  ------             --------------  -----  \n",
      " 0   Index              592 non-null    int64  \n",
      " 1   Name               592 non-null    object \n",
      " 2   Volume             592 non-null    float64\n",
      " 3   Volume_USD         592 non-null    float64\n",
      " 4   Market_Cap         592 non-null    float64\n",
      " 5   Market_Cap_USD     592 non-null    float64\n",
      " 6   Sales              592 non-null    int64  \n",
      " 7   Floor_Price        544 non-null    float64\n",
      " 8   Floor_Price_USD    544 non-null    float64\n",
      " 9   Average_Price      592 non-null    float64\n",
      " 10  Average_Price_USD  592 non-null    float64\n",
      " 11  Owners             592 non-null    int64  \n",
      " 12  Assets             592 non-null    int64  \n",
      " 13  Owner_Asset_Ratio  543 non-null    float64\n",
      " 14  Category           310 non-null    object \n",
      " 15  Website            481 non-null    object \n",
      " 16  Logo               591 non-null    object \n",
      "dtypes: float64(9), int64(4), object(4)\n",
      "memory usage: 78.8+ KB\n"
     ]
    }
   ],
   "source": [
    "dataset.info()"
   ]
  },
  {
   "cell_type": "code",
   "execution_count": 40,
   "id": "ae9ee38f",
   "metadata": {},
   "outputs": [
    {
     "data": {
      "text/html": [
       "<div>\n",
       "<style scoped>\n",
       "    .dataframe tbody tr th:only-of-type {\n",
       "        vertical-align: middle;\n",
       "    }\n",
       "\n",
       "    .dataframe tbody tr th {\n",
       "        vertical-align: top;\n",
       "    }\n",
       "\n",
       "    .dataframe thead th {\n",
       "        text-align: right;\n",
       "    }\n",
       "</style>\n",
       "<table border=\"1\" class=\"dataframe\">\n",
       "  <thead>\n",
       "    <tr style=\"text-align: right;\">\n",
       "      <th></th>\n",
       "      <th>Index</th>\n",
       "      <th>Volume</th>\n",
       "      <th>Volume_USD</th>\n",
       "      <th>Market_Cap</th>\n",
       "      <th>Market_Cap_USD</th>\n",
       "      <th>Sales</th>\n",
       "      <th>Floor_Price</th>\n",
       "      <th>Floor_Price_USD</th>\n",
       "      <th>Average_Price</th>\n",
       "      <th>Average_Price_USD</th>\n",
       "      <th>Owners</th>\n",
       "      <th>Assets</th>\n",
       "      <th>Owner_Asset_Ratio</th>\n",
       "    </tr>\n",
       "  </thead>\n",
       "  <tbody>\n",
       "    <tr>\n",
       "      <th>count</th>\n",
       "      <td>592.000000</td>\n",
       "      <td>592.000000</td>\n",
       "      <td>5.920000e+02</td>\n",
       "      <td>592.000000</td>\n",
       "      <td>592.000000</td>\n",
       "      <td>592.000000</td>\n",
       "      <td>544.000000</td>\n",
       "      <td>544.000000</td>\n",
       "      <td>592.000000</td>\n",
       "      <td>592.000000</td>\n",
       "      <td>592.000000</td>\n",
       "      <td>592.000000</td>\n",
       "      <td>543.000000</td>\n",
       "    </tr>\n",
       "    <tr>\n",
       "      <th>mean</th>\n",
       "      <td>296.547297</td>\n",
       "      <td>197.548885</td>\n",
       "      <td>2.900413e+04</td>\n",
       "      <td>45.134817</td>\n",
       "      <td>6626.693810</td>\n",
       "      <td>164.491554</td>\n",
       "      <td>2.423015</td>\n",
       "      <td>355.747019</td>\n",
       "      <td>2.373566</td>\n",
       "      <td>348.486991</td>\n",
       "      <td>53.731419</td>\n",
       "      <td>116.694257</td>\n",
       "      <td>54.385672</td>\n",
       "    </tr>\n",
       "    <tr>\n",
       "      <th>std</th>\n",
       "      <td>172.520622</td>\n",
       "      <td>1283.031435</td>\n",
       "      <td>1.883747e+05</td>\n",
       "      <td>179.327166</td>\n",
       "      <td>26328.814578</td>\n",
       "      <td>451.321395</td>\n",
       "      <td>18.982148</td>\n",
       "      <td>2786.959001</td>\n",
       "      <td>15.035229</td>\n",
       "      <td>2207.472329</td>\n",
       "      <td>133.893752</td>\n",
       "      <td>251.598765</td>\n",
       "      <td>27.632770</td>\n",
       "    </tr>\n",
       "    <tr>\n",
       "      <th>min</th>\n",
       "      <td>0.000000</td>\n",
       "      <td>0.000000</td>\n",
       "      <td>0.000000e+00</td>\n",
       "      <td>0.000000</td>\n",
       "      <td>0.000000</td>\n",
       "      <td>0.000000</td>\n",
       "      <td>0.020000</td>\n",
       "      <td>2.936400</td>\n",
       "      <td>0.000000</td>\n",
       "      <td>0.000000</td>\n",
       "      <td>0.000000</td>\n",
       "      <td>0.000000</td>\n",
       "      <td>0.260000</td>\n",
       "    </tr>\n",
       "    <tr>\n",
       "      <th>25%</th>\n",
       "      <td>147.750000</td>\n",
       "      <td>7.300000</td>\n",
       "      <td>1.071786e+03</td>\n",
       "      <td>0.000000</td>\n",
       "      <td>0.000000</td>\n",
       "      <td>11.000000</td>\n",
       "      <td>0.110000</td>\n",
       "      <td>16.150200</td>\n",
       "      <td>0.306029</td>\n",
       "      <td>44.931155</td>\n",
       "      <td>4.000000</td>\n",
       "      <td>10.000000</td>\n",
       "      <td>33.330000</td>\n",
       "    </tr>\n",
       "    <tr>\n",
       "      <th>50%</th>\n",
       "      <td>295.500000</td>\n",
       "      <td>18.595000</td>\n",
       "      <td>2.730118e+03</td>\n",
       "      <td>0.000000</td>\n",
       "      <td>0.000000</td>\n",
       "      <td>35.000000</td>\n",
       "      <td>0.300000</td>\n",
       "      <td>44.046000</td>\n",
       "      <td>0.720412</td>\n",
       "      <td>105.770928</td>\n",
       "      <td>15.000000</td>\n",
       "      <td>38.000000</td>\n",
       "      <td>57.250000</td>\n",
       "    </tr>\n",
       "    <tr>\n",
       "      <th>75%</th>\n",
       "      <td>444.250000</td>\n",
       "      <td>80.825000</td>\n",
       "      <td>1.186673e+04</td>\n",
       "      <td>21.841974</td>\n",
       "      <td>3206.838576</td>\n",
       "      <td>107.250000</td>\n",
       "      <td>1.000000</td>\n",
       "      <td>146.820000</td>\n",
       "      <td>1.596750</td>\n",
       "      <td>234.434771</td>\n",
       "      <td>44.000000</td>\n",
       "      <td>102.250000</td>\n",
       "      <td>72.845000</td>\n",
       "    </tr>\n",
       "    <tr>\n",
       "      <th>max</th>\n",
       "      <td>599.000000</td>\n",
       "      <td>27256.630000</td>\n",
       "      <td>4.001818e+06</td>\n",
       "      <td>2530.877143</td>\n",
       "      <td>371583.382100</td>\n",
       "      <td>5229.000000</td>\n",
       "      <td>400.000000</td>\n",
       "      <td>58728.000000</td>\n",
       "      <td>347.500000</td>\n",
       "      <td>51019.950000</td>\n",
       "      <td>2041.000000</td>\n",
       "      <td>3320.000000</td>\n",
       "      <td>100.000000</td>\n",
       "    </tr>\n",
       "  </tbody>\n",
       "</table>\n",
       "</div>"
      ],
      "text/plain": [
       "            Index        Volume    Volume_USD   Market_Cap  Market_Cap_USD  \\\n",
       "count  592.000000    592.000000  5.920000e+02   592.000000      592.000000   \n",
       "mean   296.547297    197.548885  2.900413e+04    45.134817     6626.693810   \n",
       "std    172.520622   1283.031435  1.883747e+05   179.327166    26328.814578   \n",
       "min      0.000000      0.000000  0.000000e+00     0.000000        0.000000   \n",
       "25%    147.750000      7.300000  1.071786e+03     0.000000        0.000000   \n",
       "50%    295.500000     18.595000  2.730118e+03     0.000000        0.000000   \n",
       "75%    444.250000     80.825000  1.186673e+04    21.841974     3206.838576   \n",
       "max    599.000000  27256.630000  4.001818e+06  2530.877143   371583.382100   \n",
       "\n",
       "             Sales  Floor_Price  Floor_Price_USD  Average_Price  \\\n",
       "count   592.000000   544.000000       544.000000     592.000000   \n",
       "mean    164.491554     2.423015       355.747019       2.373566   \n",
       "std     451.321395    18.982148      2786.959001      15.035229   \n",
       "min       0.000000     0.020000         2.936400       0.000000   \n",
       "25%      11.000000     0.110000        16.150200       0.306029   \n",
       "50%      35.000000     0.300000        44.046000       0.720412   \n",
       "75%     107.250000     1.000000       146.820000       1.596750   \n",
       "max    5229.000000   400.000000     58728.000000     347.500000   \n",
       "\n",
       "       Average_Price_USD       Owners       Assets  Owner_Asset_Ratio  \n",
       "count         592.000000   592.000000   592.000000         543.000000  \n",
       "mean          348.486991    53.731419   116.694257          54.385672  \n",
       "std          2207.472329   133.893752   251.598765          27.632770  \n",
       "min             0.000000     0.000000     0.000000           0.260000  \n",
       "25%            44.931155     4.000000    10.000000          33.330000  \n",
       "50%           105.770928    15.000000    38.000000          57.250000  \n",
       "75%           234.434771    44.000000   102.250000          72.845000  \n",
       "max         51019.950000  2041.000000  3320.000000         100.000000  "
      ]
     },
     "execution_count": 40,
     "metadata": {},
     "output_type": "execute_result"
    }
   ],
   "source": [
    "dataset.describe()"
   ]
  },
  {
   "cell_type": "markdown",
   "id": "a9388c0b",
   "metadata": {},
   "source": [
    "### Checking Null Values"
   ]
  },
  {
   "cell_type": "code",
   "execution_count": 41,
   "id": "a885b6ce",
   "metadata": {},
   "outputs": [
    {
     "data": {
      "text/plain": [
       "Index                  0\n",
       "Name                   0\n",
       "Volume                 0\n",
       "Volume_USD             0\n",
       "Market_Cap             0\n",
       "Market_Cap_USD         0\n",
       "Sales                  0\n",
       "Floor_Price           48\n",
       "Floor_Price_USD       48\n",
       "Average_Price          0\n",
       "Average_Price_USD      0\n",
       "Owners                 0\n",
       "Assets                 0\n",
       "Owner_Asset_Ratio     49\n",
       "Category             282\n",
       "Website              111\n",
       "Logo                   1\n",
       "dtype: int64"
      ]
     },
     "execution_count": 41,
     "metadata": {},
     "output_type": "execute_result"
    }
   ],
   "source": [
    "checkIsNull = dataset.isnull().sum()\n",
    "checkIsNull"
   ]
  },
  {
   "cell_type": "markdown",
   "id": "88a313d8",
   "metadata": {},
   "source": [
    "### Numerical Columns\n",
    "Impute the missing values with \"medians\""
   ]
  },
  {
   "cell_type": "code",
   "execution_count": 42,
   "id": "6dc2dbb5",
   "metadata": {},
   "outputs": [],
   "source": [
    "numerical_cols = dataset.select_dtypes(include=[\"float64\", \"int64\"]).columns\n",
    "imputer_num = SimpleImputer(strategy = 'median')\n",
    "dataset[numerical_cols] = imputer_num.fit_transform(dataset[numerical_cols])"
   ]
  },
  {
   "cell_type": "markdown",
   "id": "1e238200",
   "metadata": {},
   "source": [
    "### Categorical Columns\n",
    "Impute missing values with \"Unknown\""
   ]
  },
  {
   "cell_type": "code",
   "execution_count": 43,
   "id": "14e34115",
   "metadata": {},
   "outputs": [],
   "source": [
    "categorical_cols = ['Name', 'Category', 'Website', 'Logo']\n",
    "imputer_cat = SimpleImputer(strategy = 'constant', fill_value = 'Unknown')\n",
    "dataset[categorical_cols] = imputer_cat.fit_transform(dataset[categorical_cols])"
   ]
  },
  {
   "cell_type": "markdown",
   "id": "dacda98c",
   "metadata": {},
   "source": [
    "Verifying Missing values"
   ]
  },
  {
   "cell_type": "code",
   "execution_count": 44,
   "id": "2e2d7d8c",
   "metadata": {},
   "outputs": [
    {
     "name": "stdout",
     "output_type": "stream",
     "text": [
      "Index                0\n",
      "Name                 0\n",
      "Volume               0\n",
      "Volume_USD           0\n",
      "Market_Cap           0\n",
      "Market_Cap_USD       0\n",
      "Sales                0\n",
      "Floor_Price          0\n",
      "Floor_Price_USD      0\n",
      "Average_Price        0\n",
      "Average_Price_USD    0\n",
      "Owners               0\n",
      "Assets               0\n",
      "Owner_Asset_Ratio    0\n",
      "Category             0\n",
      "Website              0\n",
      "Logo                 0\n",
      "dtype: int64\n"
     ]
    }
   ],
   "source": [
    "print(dataset.isnull().sum())"
   ]
  },
  {
   "cell_type": "markdown",
   "id": "10a0197c",
   "metadata": {},
   "source": [
    "### Encoding Categorical Variables"
   ]
  },
  {
   "cell_type": "code",
   "execution_count": 45,
   "id": "b5cafd68",
   "metadata": {},
   "outputs": [],
   "source": [
    "dataset.drop(['Index', 'Name', 'Website', 'Logo'], axis = 1, inplace = True)"
   ]
  },
  {
   "cell_type": "code",
   "execution_count": 46,
   "id": "ae57b919",
   "metadata": {},
   "outputs": [],
   "source": [
    "categories = set()\n",
    "dataset['Category'].apply(lambda x: categories.update(x.split(',')) if x != 'Unknown' else None)\n",
    "categories = [cat.strip() for cat in categories if cat.strip()]"
   ]
  },
  {
   "cell_type": "code",
   "execution_count": 47,
   "id": "0f28a75d",
   "metadata": {},
   "outputs": [],
   "source": [
    "for cat in categories:\n",
    "    dataset[f'Category_{cat}'] = dataset['Category'].apply(lambda x : 1 if cat in x else 0)\n",
    "\n",
    "dataset.drop('Category', axis = 1, inplace = True)"
   ]
  },
  {
   "cell_type": "code",
   "execution_count": 48,
   "id": "8f6c99e3",
   "metadata": {},
   "outputs": [
    {
     "data": {
      "text/html": [
       "<div>\n",
       "<style scoped>\n",
       "    .dataframe tbody tr th:only-of-type {\n",
       "        vertical-align: middle;\n",
       "    }\n",
       "\n",
       "    .dataframe tbody tr th {\n",
       "        vertical-align: top;\n",
       "    }\n",
       "\n",
       "    .dataframe thead th {\n",
       "        text-align: right;\n",
       "    }\n",
       "</style>\n",
       "<table border=\"1\" class=\"dataframe\">\n",
       "  <thead>\n",
       "    <tr style=\"text-align: right;\">\n",
       "      <th></th>\n",
       "      <th>Volume</th>\n",
       "      <th>Volume_USD</th>\n",
       "      <th>Market_Cap</th>\n",
       "      <th>Market_Cap_USD</th>\n",
       "      <th>Sales</th>\n",
       "      <th>Floor_Price</th>\n",
       "      <th>Floor_Price_USD</th>\n",
       "      <th>Average_Price</th>\n",
       "      <th>Average_Price_USD</th>\n",
       "      <th>Owners</th>\n",
       "      <th>...</th>\n",
       "      <th>Category_Ticket</th>\n",
       "      <th>Category_Art</th>\n",
       "      <th>Category_Artifact</th>\n",
       "      <th>Category_Performance</th>\n",
       "      <th>Category_PFP</th>\n",
       "      <th>Category_Drawing</th>\n",
       "      <th>Category_Collectibles</th>\n",
       "      <th>Category_2D</th>\n",
       "      <th>Category_Digital</th>\n",
       "      <th>Category_Trading Cards</th>\n",
       "    </tr>\n",
       "  </thead>\n",
       "  <tbody>\n",
       "    <tr>\n",
       "      <th>0</th>\n",
       "      <td>27256.63</td>\n",
       "      <td>4.001818e+06</td>\n",
       "      <td>708.145455</td>\n",
       "      <td>103969.91560</td>\n",
       "      <td>366.0</td>\n",
       "      <td>39.50</td>\n",
       "      <td>5799.3900</td>\n",
       "      <td>74.471667</td>\n",
       "      <td>10933.930100</td>\n",
       "      <td>12.0</td>\n",
       "      <td>...</td>\n",
       "      <td>0</td>\n",
       "      <td>0</td>\n",
       "      <td>0</td>\n",
       "      <td>0</td>\n",
       "      <td>0</td>\n",
       "      <td>0</td>\n",
       "      <td>1</td>\n",
       "      <td>0</td>\n",
       "      <td>1</td>\n",
       "      <td>0</td>\n",
       "    </tr>\n",
       "    <tr>\n",
       "      <th>1</th>\n",
       "      <td>11381.25</td>\n",
       "      <td>1.670995e+06</td>\n",
       "      <td>106.656000</td>\n",
       "      <td>15659.23392</td>\n",
       "      <td>2075.0</td>\n",
       "      <td>0.67</td>\n",
       "      <td>98.3694</td>\n",
       "      <td>5.484940</td>\n",
       "      <td>805.298855</td>\n",
       "      <td>103.0</td>\n",
       "      <td>...</td>\n",
       "      <td>0</td>\n",
       "      <td>0</td>\n",
       "      <td>0</td>\n",
       "      <td>0</td>\n",
       "      <td>0</td>\n",
       "      <td>0</td>\n",
       "      <td>0</td>\n",
       "      <td>0</td>\n",
       "      <td>0</td>\n",
       "      <td>0</td>\n",
       "    </tr>\n",
       "    <tr>\n",
       "      <th>2</th>\n",
       "      <td>6732.19</td>\n",
       "      <td>9.884201e+05</td>\n",
       "      <td>1663.863158</td>\n",
       "      <td>244288.38880</td>\n",
       "      <td>1504.0</td>\n",
       "      <td>0.80</td>\n",
       "      <td>117.4560</td>\n",
       "      <td>4.476190</td>\n",
       "      <td>657.194239</td>\n",
       "      <td>905.0</td>\n",
       "      <td>...</td>\n",
       "      <td>0</td>\n",
       "      <td>0</td>\n",
       "      <td>0</td>\n",
       "      <td>0</td>\n",
       "      <td>0</td>\n",
       "      <td>0</td>\n",
       "      <td>0</td>\n",
       "      <td>0</td>\n",
       "      <td>0</td>\n",
       "      <td>0</td>\n",
       "    </tr>\n",
       "    <tr>\n",
       "      <th>3</th>\n",
       "      <td>3734.76</td>\n",
       "      <td>5.483375e+05</td>\n",
       "      <td>90.275000</td>\n",
       "      <td>13254.17550</td>\n",
       "      <td>395.0</td>\n",
       "      <td>3.79</td>\n",
       "      <td>556.4478</td>\n",
       "      <td>9.455089</td>\n",
       "      <td>1388.196109</td>\n",
       "      <td>19.0</td>\n",
       "      <td>...</td>\n",
       "      <td>0</td>\n",
       "      <td>0</td>\n",
       "      <td>0</td>\n",
       "      <td>0</td>\n",
       "      <td>0</td>\n",
       "      <td>0</td>\n",
       "      <td>0</td>\n",
       "      <td>0</td>\n",
       "      <td>0</td>\n",
       "      <td>0</td>\n",
       "    </tr>\n",
       "    <tr>\n",
       "      <th>4</th>\n",
       "      <td>3191.15</td>\n",
       "      <td>4.685246e+05</td>\n",
       "      <td>165.000000</td>\n",
       "      <td>24225.30000</td>\n",
       "      <td>729.0</td>\n",
       "      <td>4.30</td>\n",
       "      <td>631.3260</td>\n",
       "      <td>4.377435</td>\n",
       "      <td>642.694984</td>\n",
       "      <td>28.0</td>\n",
       "      <td>...</td>\n",
       "      <td>0</td>\n",
       "      <td>0</td>\n",
       "      <td>0</td>\n",
       "      <td>0</td>\n",
       "      <td>0</td>\n",
       "      <td>0</td>\n",
       "      <td>0</td>\n",
       "      <td>0</td>\n",
       "      <td>0</td>\n",
       "      <td>0</td>\n",
       "    </tr>\n",
       "  </tbody>\n",
       "</table>\n",
       "<p>5 rows × 44 columns</p>\n",
       "</div>"
      ],
      "text/plain": [
       "     Volume    Volume_USD   Market_Cap  Market_Cap_USD   Sales  Floor_Price  \\\n",
       "0  27256.63  4.001818e+06   708.145455    103969.91560   366.0        39.50   \n",
       "1  11381.25  1.670995e+06   106.656000     15659.23392  2075.0         0.67   \n",
       "2   6732.19  9.884201e+05  1663.863158    244288.38880  1504.0         0.80   \n",
       "3   3734.76  5.483375e+05    90.275000     13254.17550   395.0         3.79   \n",
       "4   3191.15  4.685246e+05   165.000000     24225.30000   729.0         4.30   \n",
       "\n",
       "   Floor_Price_USD  Average_Price  Average_Price_USD  Owners  ...  \\\n",
       "0        5799.3900      74.471667       10933.930100    12.0  ...   \n",
       "1          98.3694       5.484940         805.298855   103.0  ...   \n",
       "2         117.4560       4.476190         657.194239   905.0  ...   \n",
       "3         556.4478       9.455089        1388.196109    19.0  ...   \n",
       "4         631.3260       4.377435         642.694984    28.0  ...   \n",
       "\n",
       "   Category_Ticket  Category_Art  Category_Artifact  Category_Performance  \\\n",
       "0                0             0                  0                     0   \n",
       "1                0             0                  0                     0   \n",
       "2                0             0                  0                     0   \n",
       "3                0             0                  0                     0   \n",
       "4                0             0                  0                     0   \n",
       "\n",
       "   Category_PFP  Category_Drawing  Category_Collectibles  Category_2D  \\\n",
       "0             0                 0                      1            0   \n",
       "1             0                 0                      0            0   \n",
       "2             0                 0                      0            0   \n",
       "3             0                 0                      0            0   \n",
       "4             0                 0                      0            0   \n",
       "\n",
       "   Category_Digital  Category_Trading Cards  \n",
       "0                 1                       0  \n",
       "1                 0                       0  \n",
       "2                 0                       0  \n",
       "3                 0                       0  \n",
       "4                 0                       0  \n",
       "\n",
       "[5 rows x 44 columns]"
      ]
     },
     "execution_count": 48,
     "metadata": {},
     "output_type": "execute_result"
    }
   ],
   "source": [
    "dataset.head()"
   ]
  },
  {
   "cell_type": "markdown",
   "id": "a2f79b82",
   "metadata": {},
   "source": [
    "### Creating new features"
   ]
  },
  {
   "cell_type": "code",
   "execution_count": 49,
   "id": "ed0c8707",
   "metadata": {},
   "outputs": [],
   "source": [
    "dataset['Volume_per_Sale'] = dataset['Volume_USD'] / dataset['Sales']\n",
    "dataset['Avg_Price_per_Asset'] = dataset['Average_Price_USD'] / dataset['Assets']\n",
    "dataset['Market_Cap_to_Volume'] = dataset['Market_Cap_USD'] / dataset['Volume_USD']\n",
    "\n",
    "# Handle infinities and NaNs\n",
    "dataset.replace([np.inf, -np.inf], np.nan, inplace = True)\n",
    "dataset.fillna(dataset.median(numeric_only = True), inplace = True)"
   ]
  },
  {
   "cell_type": "code",
   "execution_count": 50,
   "id": "badd71c1",
   "metadata": {},
   "outputs": [],
   "source": [
    "dataset.drop(['Volume', 'Market_Cap', 'Floor_Price', 'Average_Price'], axis = 1, inplace = True)"
   ]
  },
  {
   "cell_type": "markdown",
   "id": "21ea17e6",
   "metadata": {},
   "source": [
    "### Outlier Handling"
   ]
  },
  {
   "cell_type": "code",
   "execution_count": 51,
   "id": "929b89ac",
   "metadata": {},
   "outputs": [],
   "source": [
    "def cap_outliers(df, column):\n",
    "    lower, upper = df[column].quantile([0.01, 0.99])\n",
    "    df[column] = df[column].clip(lower, upper)\n",
    "    return df"
   ]
  },
  {
   "cell_type": "code",
   "execution_count": 52,
   "id": "b63e30aa",
   "metadata": {},
   "outputs": [],
   "source": [
    "cols = ['Volume_USD', 'Market_Cap_USD', 'Floor_Price_USD', 'Sales', 'Owners', 'Assets']\n",
    "for col in cols:\n",
    "    dataset = cap_outliers(dataset, col)"
   ]
  },
  {
   "cell_type": "code",
   "execution_count": 107,
   "id": "c2722520",
   "metadata": {},
   "outputs": [
    {
     "data": {
      "text/plain": [
       "Index(['Volume_USD', 'Market_Cap_USD', 'Sales', 'Floor_Price_USD',\n",
       "       'Average_Price_USD', 'Owners', 'Assets', 'Owner_Asset_Ratio',\n",
       "       'Category_Physical', 'Category_Metaverse', 'Category_Image',\n",
       "       'Category_Photography', 'Category_Painting', 'Category_Design',\n",
       "       'Category_Trademark', 'Category_Music', 'Category_Print',\n",
       "       'Category_Pixel Art', 'Category_P2E', 'Category_Music Theme',\n",
       "       'Category_Sculpture', 'Category_3D', 'Category_Privilege',\n",
       "       'Category_Street Art', 'Category_Graphics', 'Category_AI',\n",
       "       'Category_Immaterial', 'Category_Video', 'Category_Picture',\n",
       "       'Category_Audio', 'Category_Ticket', 'Category_Art',\n",
       "       'Category_Artifact', 'Category_Performance', 'Category_PFP',\n",
       "       'Category_Drawing', 'Category_Collectibles', 'Category_2D',\n",
       "       'Category_Digital', 'Category_Trading Cards', 'Volume_per_Sale',\n",
       "       'Avg_Price_per_Asset', 'Market_Cap_to_Volume'],\n",
       "      dtype='object')"
      ]
     },
     "execution_count": 107,
     "metadata": {},
     "output_type": "execute_result"
    }
   ],
   "source": [
    "dataset.columns"
   ]
  },
  {
   "cell_type": "markdown",
   "id": "4beec1f3",
   "metadata": {},
   "source": [
    "### Feature Scaling"
   ]
  },
  {
   "cell_type": "code",
   "execution_count": 53,
   "id": "2e9af4b5",
   "metadata": {},
   "outputs": [],
   "source": [
    "# Log transform skewed numerical columns\n",
    "skewed_cols = ['Volume_USD', 'Market_Cap_USD', 'Floor_Price_USD', 'Sales', 'Owners', 'Assets', 'Volume_per_Sale']\n",
    "for col in skewed_cols:\n",
    "    dataset[col] = np.log1p(dataset[col])"
   ]
  },
  {
   "cell_type": "code",
   "execution_count": 54,
   "id": "717bb810",
   "metadata": {},
   "outputs": [
    {
     "data": {
      "text/plain": [
       "['Volume_USD',\n",
       " 'Sales',\n",
       " 'Floor_Price_USD',\n",
       " 'Average_Price_USD',\n",
       " 'Owners',\n",
       " 'Assets',\n",
       " 'Owner_Asset_Ratio',\n",
       " 'Volume_per_Sale',\n",
       " 'Avg_Price_per_Asset',\n",
       " 'Market_Cap_to_Volume']"
      ]
     },
     "execution_count": 54,
     "metadata": {},
     "output_type": "execute_result"
    }
   ],
   "source": [
    "num_cols = [col for col in dataset.columns if not col.startswith('Category_') and col != \"Market_Cap_USD\"]\n",
    "num_cols"
   ]
  },
  {
   "cell_type": "code",
   "execution_count": 55,
   "id": "f2b810e8",
   "metadata": {},
   "outputs": [],
   "source": [
    "scaler = StandardScaler()\n",
    "dataset[num_cols] = scaler.fit_transform(dataset[num_cols])"
   ]
  },
  {
   "cell_type": "markdown",
   "id": "647bd2dc",
   "metadata": {},
   "source": [
    "### MODEL BUILDING"
   ]
  },
  {
   "cell_type": "code",
   "execution_count": 57,
   "id": "9a5f2a69",
   "metadata": {},
   "outputs": [],
   "source": [
    "# Define features and Target value\n",
    "X = dataset.drop('Market_Cap_USD', axis=1)\n",
    "y = dataset['Market_Cap_USD']"
   ]
  },
  {
   "cell_type": "code",
   "execution_count": 58,
   "id": "e864674e",
   "metadata": {},
   "outputs": [],
   "source": [
    "# Split data\n",
    "X_train, X_test, y_train, y_test = train_test_split(X, y, test_size = 0.2, random_state = 42)"
   ]
  },
  {
   "cell_type": "code",
   "execution_count": 80,
   "id": "ec78e3b5",
   "metadata": {},
   "outputs": [],
   "source": [
    "scaler = StandardScaler()\n",
    "X_train_scaled = scaler.fit_transform(X_train)\n",
    "X_test_scaled = scaler.transform(X_test)"
   ]
  },
  {
   "cell_type": "code",
   "execution_count": 101,
   "id": "5175fdc4",
   "metadata": {},
   "outputs": [],
   "source": [
    "def train_models(X_train, X_test, y_train, y_test):\n",
    "    models = {\n",
    "        \"LinearRegression\": LinearRegression(),\n",
    "        \"Random Forest\": RandomForestRegressor(n_estimators = 200, random_state = 42),\n",
    "        \"Gradient Boosting\": GradientBoostingRegressor(n_estimators = 200, random_state = 42),\n",
    "        \"XGBoost\": XGBRegressor(n_estimators = 200, random_state = 42)\n",
    "    }\n",
    "\n",
    "    results = {}\n",
    "\n",
    "    for name, model in models.items():\n",
    "        model.fit(X_train, y_train)\n",
    "        y_pred = model.predict(X_test)\n",
    "\n",
    "        rmse = np.sqrt(mean_squared_error(y_test, y_pred))\n",
    "        mae = mean_absolute_error(y_test, y_pred)\n",
    "        r2 = r2_score(y_test, y_pred)\n",
    "\n",
    "        results[name] = {\n",
    "            \"RMSE\": rmse,\n",
    "            \"MAE\": mae,\n",
    "            \"R²\": r2\n",
    "        }\n",
    "\n",
    "    return results"
   ]
  },
  {
   "cell_type": "code",
   "execution_count": 105,
   "id": "989c506f",
   "metadata": {},
   "outputs": [
    {
     "name": "stdout",
     "output_type": "stream",
     "text": [
      "Model Name: LinearRegression\n",
      "RMSE: 12.922721234776388\n",
      "MAE: 3.8176703903116604\n",
      "R²: -8.297752188471366\n",
      "---------------------------\n",
      "Model Name: Random Forest\n",
      "RMSE: 0.679974734165025\n",
      "MAE: 0.1708464967711614\n",
      "R²: 0.974257212794393\n",
      "---------------------------\n",
      "Model Name: Gradient Boosting\n",
      "RMSE: 0.5762157760840007\n",
      "MAE: 0.16911041449033679\n",
      "R²: 0.9815141125713365\n",
      "---------------------------\n",
      "Model Name: XGBoost\n",
      "RMSE: 0.7050499550075066\n",
      "MAE: 0.1613018628371072\n",
      "R²: 0.9723235875976208\n",
      "---------------------------\n"
     ]
    }
   ],
   "source": [
    "res = train_models(X_train_scaled, X_test_scaled, y_train, y_test)\n",
    "for name, metrics in res.items():\n",
    "    print(f\"Model Name: {name}\")\n",
    "    for metric, value in metrics.items():\n",
    "        print(f\"{metric}: {value}\")\n",
    "    print(\"---------------------------\")"
   ]
  },
  {
   "cell_type": "code",
   "execution_count": 81,
   "id": "adbfe91d",
   "metadata": {},
   "outputs": [],
   "source": [
    "param_dist = {\n",
    "    'n_estimators': [100, 200, 300],\n",
    "    'max_depth': [10, 20, None],\n",
    "    'min_samples_split': [2, 5],\n",
    "    'min_samples_leaf': [1, 2],\n",
    "    'max_features': ['sqrt', 0.5]\n",
    "    }"
   ]
  },
  {
   "cell_type": "code",
   "execution_count": 84,
   "id": "5f5038a4",
   "metadata": {},
   "outputs": [],
   "source": [
    "rf_model = RandomForestRegressor(random_state = 42)\n",
    "search = RandomizedSearchCV(\n",
    "    rf_model,\n",
    "    param_distributions = param_dist,\n",
    "    n_iter = 10,\n",
    "    cv = 5,\n",
    "    scoring = 'r2',\n",
    "    n_jobs = -1,\n",
    "    random_state = 42\n",
    "    )\n",
    "search.fit(X_train_scaled, y_train)\n",
    "model = search.best_estimator_ "
   ]
  },
  {
   "cell_type": "code",
   "execution_count": 85,
   "id": "9234c72b",
   "metadata": {},
   "outputs": [],
   "source": [
    "y_pred = model.predict(X_test_scaled)"
   ]
  },
  {
   "cell_type": "code",
   "execution_count": 88,
   "id": "14b989fc",
   "metadata": {},
   "outputs": [],
   "source": [
    "rmse = np.sqrt(mean_squared_error(y_test, y_pred))\n",
    "mae = mean_absolute_error(y_test, y_pred)\n",
    "r2 = r2_score(y_test, y_pred)"
   ]
  },
  {
   "cell_type": "code",
   "execution_count": 106,
   "id": "a95b5402",
   "metadata": {},
   "outputs": [
    {
     "name": "stdout",
     "output_type": "stream",
     "text": [
      "Model Evaluation Metrics:\n",
      "RMSE: 0.7102795610450086\n",
      "MAE : 0.2768262619893402\n",
      "R²  : 0.9719114933502442\n"
     ]
    }
   ],
   "source": [
    "print(\"Model Evaluation Metrics:\")\n",
    "print(f\"RMSE: {rmse}\")\n",
    "print(f\"MAE : {mae}\")\n",
    "print(f\"R²  : {r2}\")"
   ]
  },
  {
   "cell_type": "code",
   "execution_count": 77,
   "id": "ea95088b",
   "metadata": {},
   "outputs": [
    {
     "data": {
      "image/png": "[encoded data removed]",
      "text/plain": [
       "<Figure size 800x600 with 1 Axes>"
      ]
     },
     "metadata": {},
     "output_type": "display_data"
    }
   ],
   "source": [
    "plt.figure(figsize=(8, 6))\n",
    "plt.scatter(y_test, y_pred, alpha=0.6, color='royalblue')\n",
    "plt.plot([y_test.min(), y_test.max()], [y_test.min(), y_test.max()], 'r--')\n",
    "plt.title(\"Actual vs Predicted Market Cap (USD)\")\n",
    "plt.xlabel(\"Actual Market Cap\")\n",
    "plt.ylabel(\"Predicted Market Cap\")\n",
    "plt.grid(True)\n",
    "plt.show()"
   ]
  },
  {
   "cell_type": "code",
   "execution_count": 79,
   "id": "bb4dda23",
   "metadata": {},
   "outputs": [
    {
     "data": {
      "image/png": "[encoded data removed]",
      "text/plain": [
       "<Figure size 640x480 with 1 Axes>"
      ]
     },
     "metadata": {},
     "output_type": "display_data"
    }
   ],
   "source": [
    "importances = best_model.feature_importances_\n",
    "feat_names = X_train.columns\n",
    "feat_df = pd.Series(importances, index=feat_names).sort_values(ascending=False)[:10]\n",
    "\n",
    "feat_df.plot(kind='barh', color='orange')\n",
    "plt.title(\"Top 10 Important Features for Market Cap Prediction\")\n",
    "plt.xlabel(\"Importance Score\")\n",
    "plt.gca().invert_yaxis()\n",
    "plt.tight_layout()\n",
    "plt.show()"
   ]
  },
  {
   "cell_type": "code",
   "execution_count": null,
   "id": "760b98ab",
   "metadata": {},
   "outputs": [],
   "source": []
  }
 ],
 "metadata": {
  "kernelspec": {
   "display_name": "hack",
   "language": "python",
   "name": "python3"
  },
  "language_info": {
   "codemirror_mode": {
    "name": "ipython",
    "version": 3
   },
   "file_extension": ".py",
   "mimetype": "text/x-python",
   "name": "python",
   "nbconvert_exporter": "python",
   "pygments_lexer": "ipython3",
   "version": "3.11.11"
  }
 },
 "nbformat": 4,
 "nbformat_minor": 5
}
